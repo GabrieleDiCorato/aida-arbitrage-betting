{
 "cells": [
  {
   "cell_type": "code",
   "execution_count": 1,
   "id": "a6d54766",
   "metadata": {},
   "outputs": [],
   "source": [
    "import sys\n",
    "import os\n",
    "\n",
    "# Add project root to Python path\n",
    "current_dir = os.path.dirname(os.path.abspath('__file__' if '__file__' in globals() else 'scraper_test.ipynb'))\n",
    "project_root = os.path.dirname(current_dir)\n",
    "\n",
    "if project_root not in sys.path:\n",
    "    sys.path.insert(0, project_root)\n",
    "\n",
    "# Import the unified scraper\n",
    "from src.scraper.lottomatica_selenium_scraper import LottomaticaSeleniumScraper\n",
    "from src.storage.csv_storage import CSVBettingOddsStorage"
   ]
  },
  {
   "cell_type": "code",
   "execution_count": 2,
   "id": "15fc09df",
   "metadata": {},
   "outputs": [
    {
     "name": "stdout",
     "output_type": "stream",
     "text": [
      "Scraper Configuration:\n",
      "  URL: https://www.lottomatica.it/scommesse/live/calcio/camerun-elite-2/fovu-de-baham-as-fap\n",
      "  Duration: 0.5 minutes (30 seconds)\n",
      "  Interval: 5 seconds\n",
      "============================================================\n"
     ]
    }
   ],
   "source": [
    "# Configuration\n",
    "url = \"https://www.lottomatica.it/scommesse/live/calcio/camerun-elite-2/fovu-de-baham-as-fap\"\n",
    "duration_minutes = 0.5 \n",
    "interval_seconds = 5\n",
    "\n",
    "print(\"Scraper Configuration:\")\n",
    "print(f\"  URL: {url}\")\n",
    "print(f\"  Duration: {duration_minutes} minutes (30 seconds)\")\n",
    "print(f\"  Interval: {interval_seconds} seconds\")\n",
    "print(\"=\" * 60)"
   ]
  },
  {
   "cell_type": "code",
   "execution_count": 3,
   "id": "1fda5569",
   "metadata": {},
   "outputs": [
    {
     "name": "stdout",
     "output_type": "stream",
     "text": [
      "Starting unified scraper...\n",
      "Starting continuous (0.5 minutes) scraping session\n",
      "   URL: https://www.lottomatica.it/scommesse/live/calcio/camerun-elite-2/fovu-de-baham-as-fap\n",
      "   Duration: 0.5 minutes\n",
      "   Interval: 5 seconds\n",
      "   Storage: CSVBettingOddsStorage\n",
      "Session started at 2025-06-16 17:50:56\n",
      "Session will end at 2025-06-16 17:51:26\n",
      "   Press Ctrl+C to stop early\n",
      "------------------------------------------------------------\n",
      "✓ CSV storage initialized: data\\lottomatica_scraper_20250616_175056.csv\n",
      "Chrome WebDriver setup successful\n",
      "Navigating to: https://www.lottomatica.it/scommesse/live/calcio/camerun-elite-2/fovu-de-baham-as-fap\n",
      "Cookie banner accepted\n",
      "Page loaded - team names visible\n",
      "Teams: Fovu de Baham vs AS Fap\n",
      "1X2 Main odds extracted\n",
      "Double Chance odds extracted\n",
      "Gol/NoGol odds extracted\n",
      "✓ Stored odds for Fovu de Baham vs AS Fap\n",
      "17:51:08 - Fovu de Baham vs AS Fap - 1X2: 45.0/6.25/1.08\n",
      "Teams: Fovu de Baham vs AS Fap\n",
      "1X2 Main odds extracted\n",
      "Double Chance odds extracted\n",
      "Gol/NoGol odds extracted\n",
      "✓ Stored odds for Fovu de Baham vs AS Fap\n",
      "17:51:25 - Fovu de Baham vs AS Fap - 1X2: 45.0/6.25/1.08\n",
      "Teams: Fovu de Baham vs AS Fap\n",
      "1X2 Main odds extracted\n",
      "Double Chance odds extracted\n",
      "Gol/NoGol odds extracted\n",
      "✓ Stored odds for Fovu de Baham vs AS Fap\n",
      "17:51:40 - Fovu de Baham vs AS Fap - 1X2: 45.0/6.25/1.08\n",
      "Browser closed\n",
      "------------------------------------------------------------\n",
      "CONTINUOUS SCRAPING SESSION SUMMARY\n",
      "   Duration: 0:00:45.744975\n",
      "   Successful scrapes: 3\n",
      "   Failed scrapes: 0\n",
      "   Success rate: 100.0%\n",
      "   Data saved to: data\\lottomatica_scraper_20250616_175056.csv\n",
      "Session completed\n",
      "\n",
      "Results:\n",
      "  Successful scrapes: 3\n",
      "  Failed scrapes: 0\n",
      "  Success rate: 100.0%\n",
      "  Session duration: 0:00:45.744975\n",
      "  Data saved to: data\\lottomatica_scraper_20250616_175056.csv\n",
      "✓ CSV storage session closed: data\\lottomatica_scraper_20250616_175056.csv\n"
     ]
    }
   ],
   "source": [
    "# Create storage and scraper\n",
    "storage = CSVBettingOddsStorage(filename_prefix=\"lottomatica_scraper\", output_dir=\"data\")\n",
    "scraper = LottomaticaSeleniumScraper(headless=False, storage=storage)\n",
    "\n",
    "# Start the scraper \n",
    "print(\"Starting unified scraper...\")\n",
    "result = scraper.scrape(\n",
    "    url=url,\n",
    "    duration_minutes=duration_minutes,\n",
    "    interval_seconds=interval_seconds\n",
    ")\n",
    "\n",
    "# Display results\n",
    "print(f\"\\nResults:\")\n",
    "print(f\"  Successful scrapes: {result['successful_scrapes']}\")\n",
    "print(f\"  Failed scrapes: {result['failed_scrapes']}\")\n",
    "print(f\"  Success rate: {result['success_rate']:.1f}%\")\n",
    "print(f\"  Session duration: {result['session_duration']}\")\n",
    "print(f\"  Data saved to: {result['storage_path']}\")\n",
    "\n",
    "# Clean up\n",
    "scraper.close()"
   ]
  },
  {
   "cell_type": "code",
   "execution_count": null,
   "id": "2a3ddaee",
   "metadata": {},
   "outputs": [],
   "source": []
  }
 ],
 "metadata": {
  "kernelspec": {
   "display_name": ".venv",
   "language": "python",
   "name": "python3"
  },
  "language_info": {
   "codemirror_mode": {
    "name": "ipython",
    "version": 3
   },
   "file_extension": ".py",
   "mimetype": "text/x-python",
   "name": "python",
   "nbconvert_exporter": "python",
   "pygments_lexer": "ipython3",
   "version": "3.12.6"
  }
 },
 "nbformat": 4,
 "nbformat_minor": 5
}
