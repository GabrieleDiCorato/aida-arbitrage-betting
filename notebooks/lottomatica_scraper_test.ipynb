{
 "cells": [
  {
   "cell_type": "code",
   "execution_count": 1,
   "id": "52893c1e",
   "metadata": {},
   "outputs": [],
   "source": [
    "import sys\n",
    "import os\n",
    "\n",
    "# Add project root to Python path\n",
    "current_dir = os.path.dirname(os.path.abspath('__file__' if '__file__' in globals() else 'lottomatica_scraper_test.ipynb'))\n",
    "project_root = os.path.dirname(current_dir)\n",
    "\n",
    "if project_root not in sys.path:\n",
    "    sys.path.insert(0, project_root)\n",
    "\n",
    "# Import the Lottomatica scraper\n",
    "from src.scraper.lottomatica_selenium_scraper import LottomaticaSeleniumScraper\n",
    "from src.storage.csv_storage import CSVBettingOddsStorage"
   ]
  },
  {
   "cell_type": "code",
   "execution_count": 4,
   "id": "cbfdfe73",
   "metadata": {},
   "outputs": [
    {
     "name": "stdout",
     "output_type": "stream",
     "text": [
      "Lottomatica Scraper Configuration:\n",
      "  URL: https://www.lottomatica.it/scommesse/live/calcio/europei-u21/finlandia-u21-ucraina-u21\n",
      "  Duration: 0.5 minutes (30 seconds)\n",
      "  Interval: 5 seconds\n",
      "  Note: Update the URL with an actual match page\n",
      "============================================================\n"
     ]
    }
   ],
   "source": [
    "# Configuration - Replace with actual Lottomatica/Better.it betting URL\n",
    "url = \"https://www.lottomatica.it/scommesse/live/calcio/europei-u21/finlandia-u21-ucraina-u21\"\n",
    "duration_minutes = 0.5  # 30 seconds\n",
    "interval_seconds = 5    # Every 5 seconds\n",
    "\n",
    "print(\"Lottomatica Scraper Configuration:\")\n",
    "print(f\"  URL: {url}\")\n",
    "print(f\"  Duration: {duration_minutes} minutes (30 seconds)\")\n",
    "print(f\"  Interval: {interval_seconds} seconds\")\n",
    "print(\"  Note: Update the URL with an actual match page\")\n",
    "print(\"=\" * 60)"
   ]
  },
  {
   "cell_type": "code",
   "execution_count": null,
   "id": "381f5499",
   "metadata": {},
   "outputs": [
    {
     "name": "stdout",
     "output_type": "stream",
     "text": [
      "Starting Lottomatica scraper...\n",
      "Starting continuous (0.5 minutes) scraping session\n",
      "   URL: https://www.lottomatica.it/scommesse/live/calcio/europei-u21/finlandia-u21-ucraina-u21\n",
      "   Duration: 0.5 minutes\n",
      "   Interval: 5 seconds\n",
      "   Storage: CSVBettingOddsStorage\n",
      "Session started at 2025-06-15 19:07:03\n",
      "Session will end at 2025-06-15 19:07:33\n",
      "   Press Ctrl+C to stop early\n",
      "------------------------------------------------------------\n",
      "✓ CSV storage initialized: data\\lottomatica_test_20250615_190703.csv\n",
      "Chrome WebDriver setup successful\n",
      "Navigating to: https://www.lottomatica.it/scommesse/live/calcio/europei-u21/finlandia-u21-ucraina-u21\n",
      "Cookie banner accepted\n",
      "Page content loaded\n",
      "Teams: Finlandia U21 vs Ucraina U21\n",
      "1X2 Main odds extracted\n"
     ]
    }
   ],
   "source": [
    "# Create storage and scraper\n",
    "storage = CSVBettingOddsStorage(filename_prefix=\"lottomatica_scraper\", output_dir=\"data\")\n",
    "scraper = LottomaticaSeleniumScraper(headless=False, storage=storage)\n",
    "\n",
    "# Run unified scraper for 30 seconds with 5-second intervals\n",
    "print(\"Starting Lottomatica scraper...\")\n",
    "result = scraper.scrape(\n",
    "    url=url,\n",
    "    duration_minutes=duration_minutes,\n",
    "    interval_seconds=interval_seconds\n",
    ")\n",
    "\n",
    "# Display results\n",
    "print(f\"\\nResults:\")\n",
    "print(f\"  Successful scrapes: {result['successful_scrapes']}\")\n",
    "print(f\"  Failed scrapes: {result['failed_scrapes']}\")\n",
    "print(f\"  Success rate: {result['success_rate']:.1f}%\")\n",
    "print(f\"  Session duration: {result['session_duration']}\")\n",
    "print(f\"  Data saved to: {result['storage_path']}\")\n",
    "\n",
    "# Clean up\n",
    "scraper.close()"
   ]
  },
  {
   "cell_type": "code",
   "execution_count": null,
   "id": "62282c3d",
   "metadata": {},
   "outputs": [],
   "source": []
  }
 ],
 "metadata": {
  "kernelspec": {
   "display_name": ".venv",
   "language": "python",
   "name": "python3"
  },
  "language_info": {
   "codemirror_mode": {
    "name": "ipython",
    "version": 3
   },
   "file_extension": ".py",
   "mimetype": "text/x-python",
   "name": "python",
   "nbconvert_exporter": "python",
   "pygments_lexer": "ipython3",
   "version": "3.12.6"
  }
 },
 "nbformat": 4,
 "nbformat_minor": 5
}
