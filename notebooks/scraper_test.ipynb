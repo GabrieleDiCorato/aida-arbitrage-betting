{
 "cells": [
  {
   "cell_type": "markdown",
   "id": "5b19bf3e",
   "metadata": {},
   "source": [
    "# Sisal Selenium Scraper Test\n",
    "\n",
    "This notebook tests the Selenium-based scraper with a specific live match: **Francia U21 vs Georgia U21**.\n",
    "\n",
    "The scraper will connect to the Sisal page, extract betting odds, and create a BettingOdds instance."
   ]
  },
  {
   "cell_type": "code",
   "execution_count": null,
   "id": "e38ef1c4",
   "metadata": {},
   "outputs": [
    {
     "ename": "ImportError",
     "evalue": "cannot import name 'scrape_sisal_odds_selenium' from 'src.scraper.sisal_selenium_scraper' (c:\\Users\\gabri\\workspace\\aida_projects\\aida-arbitrage-betting\\src\\scraper\\sisal_selenium_scraper.py)",
     "output_type": "error",
     "traceback": [
      "\u001b[31m---------------------------------------------------------------------------\u001b[39m",
      "\u001b[31mImportError\u001b[39m                               Traceback (most recent call last)",
      "\u001b[36mCell\u001b[39m\u001b[36m \u001b[39m\u001b[32mIn[1]\u001b[39m\u001b[32m, line 13\u001b[39m\n\u001b[32m     10\u001b[39m     sys.path.insert(\u001b[32m0\u001b[39m, project_root)\n\u001b[32m     12\u001b[39m \u001b[38;5;66;03m# Import the Selenium scraper\u001b[39;00m\n\u001b[32m---> \u001b[39m\u001b[32m13\u001b[39m \u001b[38;5;28;01mfrom\u001b[39;00m\u001b[38;5;250m \u001b[39m\u001b[34;01msrc\u001b[39;00m\u001b[34;01m.\u001b[39;00m\u001b[34;01mscraper\u001b[39;00m\u001b[34;01m.\u001b[39;00m\u001b[34;01msisal_selenium_scraper\u001b[39;00m\u001b[38;5;250m \u001b[39m\u001b[38;5;28;01mimport\u001b[39;00m scrape_sisal_odds_selenium\n",
      "\u001b[31mImportError\u001b[39m: cannot import name 'scrape_sisal_odds_selenium' from 'src.scraper.sisal_selenium_scraper' (c:\\Users\\gabri\\workspace\\aida_projects\\aida-arbitrage-betting\\src\\scraper\\sisal_selenium_scraper.py)"
     ]
    }
   ],
   "source": [
    "import sys\n",
    "import os\n",
    "\n",
    "# Add the project root to Python path\n",
    "# Get the current notebook directory and go up one level to reach project root\n",
    "current_dir = os.path.dirname(os.path.abspath('__file__' if '__file__' in globals() else 'scraper_test.ipynb'))\n",
    "project_root = os.path.dirname(current_dir)\n",
    "\n",
    "if project_root not in sys.path:\n",
    "    sys.path.insert(0, project_root)\n",
    "\n",
    "# Import the Selenium scraper class\n",
    "from src.scraper import SisalSeleniumScraper"
   ]
  },
  {
   "cell_type": "code",
   "execution_count": null,
   "id": "f9490b73",
   "metadata": {},
   "outputs": [
    {
     "ename": "ImportError",
     "evalue": "cannot import name 'scrape_sisal_odds_selenium' from 'src.scraper.sisal_selenium_scraper' (c:\\Users\\gabri\\workspace\\aida_projects\\aida-arbitrage-betting\\src\\scraper\\sisal_selenium_scraper.py)",
     "output_type": "error",
     "traceback": [
      "\u001b[31m---------------------------------------------------------------------------\u001b[39m",
      "\u001b[31mImportError\u001b[39m                               Traceback (most recent call last)",
      "\u001b[36mCell\u001b[39m\u001b[36m \u001b[39m\u001b[32mIn[2]\u001b[39m\u001b[32m, line 2\u001b[39m\n\u001b[32m      1\u001b[39m \u001b[38;5;66;03m# Test scraper with Francia U21 vs Georgia U21 match\u001b[39;00m\n\u001b[32m----> \u001b[39m\u001b[32m2\u001b[39m \u001b[38;5;28;01mfrom\u001b[39;00m\u001b[38;5;250m \u001b[39m\u001b[34;01msrc\u001b[39;00m\u001b[34;01m.\u001b[39;00m\u001b[34;01mscraper\u001b[39;00m\u001b[34;01m.\u001b[39;00m\u001b[34;01msisal_selenium_scraper\u001b[39;00m\u001b[38;5;250m \u001b[39m\u001b[38;5;28;01mimport\u001b[39;00m scrape_sisal_odds_selenium\n\u001b[32m      4\u001b[39m \u001b[38;5;66;03m# Target match URL\u001b[39;00m\n\u001b[32m      5\u001b[39m url = \u001b[33m\"\u001b[39m\u001b[33mhttps://www.sisal.it/scommesse-live/evento/calcio/peru/primera-division/juan-pablo-ii-cultural-santa-rosa\u001b[39m\u001b[33m\"\u001b[39m\n",
      "\u001b[31mImportError\u001b[39m: cannot import name 'scrape_sisal_odds_selenium' from 'src.scraper.sisal_selenium_scraper' (c:\\Users\\gabri\\workspace\\aida_projects\\aida-arbitrage-betting\\src\\scraper\\sisal_selenium_scraper.py)"
     ]
    }
   ],
   "source": [
    "# Test scraper with the specified match\n",
    "# Target match URL\n",
    "url = \"https://www.sisal.it/scommesse-live/evento/calcio/peru/primera-division/juan-pablo-ii-cultural-santa-rosa\"\n",
    "\n",
    "print(\"Testing Sisal Selenium Scraper\")\n",
    "print(f\"Match: Juan Pablo II vs Cultural Santa Rosa\")\n",
    "print(f\"URL: {url}\")\n",
    "print(\"=\" * 60)\n",
    "\n",
    "# Create scraper instance and scrape the odds\n",
    "scraper = SisalSeleniumScraper(headless=False)\n",
    "odds = scraper.scrape_betting_odds(url)\n",
    "\n",
    "if odds:\n",
    "    print(\"✅ SUCCESS! Betting odds extracted\")\n",
    "    print(f\"Match: {odds.home_team} vs {odds.away_team}\")\n",
    "    print(f\"Timestamp: {odds.timestamp}\")\n",
    "    print(f\"Source: {odds.source}\")\n",
    "    print()\n",
    "    \n",
    "    # Display odds\n",
    "    print(\"Extracted odds:\")\n",
    "    print(f\"  1X2: {odds.home_win} / {odds.draw} / {odds.away_win}\")\n",
    "    print(f\"  O/U 2.5: {odds.over_2_5} / {odds.under_2_5}\")\n",
    "    print(f\"  BTTS: {odds.both_teams_score_yes} / {odds.both_teams_score_no}\")\n",
    "    print(f\"  Double Chance: {odds.home_or_draw} / {odds.away_or_draw} / {odds.home_or_away}\")\n",
    "    print()\n",
    "    \n",
    "    # Show complete BettingOdds object\n",
    "    print(\"Complete BettingOdds object:\")\n",
    "    print(repr(odds))\n",
    "    \n",
    "else:\n",
    "    print(\"❌ Failed to extract odds\")\n",
    "    print(\"Possible reasons:\")\n",
    "    print(\"- Match not live\")\n",
    "    print(\"- Geographic restrictions\") \n",
    "    print(\"- Page structure changed\")\n",
    "    print(\"- Betting markets not available\")"
   ]
  },
  {
   "cell_type": "code",
   "execution_count": null,
   "id": "824f9c93",
   "metadata": {},
   "outputs": [],
   "source": []
  }
 ],
 "metadata": {
  "kernelspec": {
   "display_name": ".venv",
   "language": "python",
   "name": "python3"
  },
  "language_info": {
   "codemirror_mode": {
    "name": "ipython",
    "version": 3
   },
   "file_extension": ".py",
   "mimetype": "text/x-python",
   "name": "python",
   "nbconvert_exporter": "python",
   "pygments_lexer": "ipython3",
   "version": "3.12.6"
  }
 },
 "nbformat": 4,
 "nbformat_minor": 5
}
