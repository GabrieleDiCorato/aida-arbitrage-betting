{
 "cells": [
  {
   "cell_type": "markdown",
   "id": "5b19bf3e",
   "metadata": {},
   "source": [
    "# Sisal Selenium Scraper Test\n",
    "\n",
    "This notebook tests the Selenium-based scraper with a specific live match: **Francia U21 vs Georgia U21**.\n",
    "\n",
    "The scraper will connect to the Sisal page, extract betting odds, and create a BettingOdds instance."
   ]
  },
  {
   "cell_type": "code",
   "execution_count": 2,
   "id": "e38ef1c4",
   "metadata": {},
   "outputs": [],
   "source": [
    "import sys\n",
    "import os\n",
    "\n",
    "# Add the project root to Python path\n",
    "# Get the current notebook directory and go up one level to reach project root\n",
    "current_dir = os.path.dirname(os.path.abspath('__file__' if '__file__' in globals() else 'scraper_test.ipynb'))\n",
    "project_root = os.path.dirname(current_dir)\n",
    "\n",
    "if project_root not in sys.path:\n",
    "    sys.path.insert(0, project_root)\n",
    "\n",
    "# Import the Selenium scraper\n",
    "from src.scraper.sisal_selenium_scraper import scrape_sisal_odds_selenium"
   ]
  },
  {
   "cell_type": "code",
   "execution_count": null,
   "id": "f9490b73",
   "metadata": {},
   "outputs": [
    {
     "name": "stdout",
     "output_type": "stream",
     "text": [
      "=== Testing Specific Match: Francia U21 vs Georgia U21 ===\n",
      "URL: https://www.sisal.it/scommesse-live/evento/calcio/euro-u21/francia-u21-georgia-u21\n",
      "Starting scraping process...\n",
      "Note: This may take 30-60 seconds due to browser automation\n",
      "🎯 Starting Selenium scraping for: https://www.sisal.it/scommesse-live/evento/calcio/euro-u21/francia-u21-georgia-u21\n",
      "✅ Chrome WebDriver setup successful\n",
      "🌐 Simulating realistic browser behavior...\n",
      "📄 Visiting Sisal homepage...\n",
      "⏱️ Simulating reading time: 4.6s\n",
      "🎲 Navigating to live betting...\n",
      "⏱️ Simulating reading time: 2.8s\n"
     ]
    }
   ],
   "source": [
    "# Test scraper with Francia U21 vs Georgia U21 match\n",
    "from src.scraper.sisal_selenium_scraper import scrape_sisal_odds_selenium\n",
    "\n",
    "# Target match URL\n",
    "url = \"https://www.sisal.it/scommesse-live/evento/calcio/euro-u21/francia-u21-georgia-u21\"\n",
    "\n",
    "print(\"Testing Sisal Selenium Scraper\")\n",
    "print(f\"Match: Francia U21 vs Georgia U21\")\n",
    "print(f\"URL: {url}\")\n",
    "print(\"=\" * 60)\n",
    "\n",
    "# Scrape the odds\n",
    "odds = scrape_sisal_odds_selenium(url, headless=True)\n",
    "\n",
    "if odds:\n",
    "    print(\"✅ SUCCESS! Betting odds extracted\")\n",
    "    print(f\"Match: {odds.home_team} vs {odds.away_team}\")\n",
    "    print(f\"Timestamp: {odds.timestamp}\")\n",
    "    print(f\"Source: {odds.source}\")\n",
    "    print()\n",
    "    \n",
    "    # Display odds\n",
    "    print(\"Extracted odds:\")\n",
    "    print(f\"  1X2: {odds.home_win} / {odds.draw} / {odds.away_win}\")\n",
    "    print(f\"  O/U 2.5: {odds.over_2_5} / {odds.under_2_5}\")\n",
    "    print(f\"  BTTS: {odds.both_teams_score_yes} / {odds.both_teams_score_no}\")\n",
    "    print(f\"  Double Chance: {odds.home_or_draw} / {odds.away_or_draw} / {odds.home_or_away}\")\n",
    "    print()\n",
    "    \n",
    "    # Show complete BettingOdds object\n",
    "    print(\"Complete BettingOdds object:\")\n",
    "    print(repr(odds))\n",
    "    \n",
    "else:\n",
    "    print(\"❌ Failed to extract odds\")\n",
    "    print(\"Possible reasons:\")\n",
    "    print(\"- Match not live\")\n",
    "    print(\"- Geographic restrictions\") \n",
    "    print(\"- Page structure changed\")"
   ]
  }
 ],
 "metadata": {
  "kernelspec": {
   "display_name": ".venv",
   "language": "python",
   "name": "python3"
  },
  "language_info": {
   "codemirror_mode": {
    "name": "ipython",
    "version": 3
   },
   "file_extension": ".py",
   "mimetype": "text/x-python",
   "name": "python",
   "nbconvert_exporter": "python",
   "pygments_lexer": "ipython3",
   "version": "3.12.6"
  }
 },
 "nbformat": 4,
 "nbformat_minor": 5
}
