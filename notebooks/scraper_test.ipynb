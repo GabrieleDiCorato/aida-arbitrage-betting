{
 "cells": [
  {
   "cell_type": "markdown",
   "id": "5b19bf3e",
   "metadata": {},
   "source": [
    "# Sisal Selenium Scraper Test\n",
    "\n",
    "This notebook tests the Selenium-based scraper with a specific live match: **Francia U21 vs Georgia U21**.\n",
    "\n",
    "The scraper will connect to the Sisal page, extract betting odds, and create a BettingOdds instance."
   ]
  },
  {
   "cell_type": "code",
   "execution_count": 1,
   "id": "e38ef1c4",
   "metadata": {},
   "outputs": [],
   "source": [
    "import sys\n",
    "import os\n",
    "\n",
    "# Add the project root to Python path\n",
    "# Get the current notebook directory and go up one level to reach project root\n",
    "current_dir = os.path.dirname(os.path.abspath('__file__' if '__file__' in globals() else 'scraper_test.ipynb'))\n",
    "project_root = os.path.dirname(current_dir)\n",
    "\n",
    "if project_root not in sys.path:\n",
    "    sys.path.insert(0, project_root)\n",
    "\n",
    "# Import the Selenium scraper class\n",
    "from src.scraper import SisalSeleniumScraper"
   ]
  },
  {
   "cell_type": "code",
   "execution_count": null,
   "id": "f09ee3a1",
   "metadata": {},
   "outputs": [],
   "source": [
    "https://www.sisal.it/scommesse-live/evento/calcio/cecafa-cup-f/burundi-kenya"
   ]
  },
  {
   "cell_type": "code",
   "execution_count": null,
   "id": "f9490b73",
   "metadata": {},
   "outputs": [
    {
     "name": "stdout",
     "output_type": "stream",
     "text": [
      "Testing Sisal Selenium Scraper\n",
      "URL: https://www.sisal.it/scommesse-live/evento/calcio/torneo-di-tolone/denmark-youth-messico\n",
      "============================================================\n",
      "Starting scraping for: https://www.sisal.it/scommesse-live/evento/calcio/torneo-di-tolone/denmark-youth-messico\n",
      "✓ CSV storage initialized: data\\sisal_odds_20250615_151040.csv\n",
      "✓ Chrome WebDriver setup successful\n",
      "✓ Cookie banner accepted\n",
      "✓ Page content loaded\n",
      "✓ Teams: Denmark Youth vs Messico\n",
      "✓ Expanded betting section\n",
      "✓ Expanded betting section\n",
      "\n",
      "=== EXTRACTED BETTING ODDS ===\n",
      "Match: Denmark Youth vs Messico\n",
      "Match ID: denmark-youth-messico\n",
      "Source: Sisal\n",
      "Timestamp: 2025-06-15 15:10:49.058106\n",
      "===============================\n",
      "\n",
      "✓ Stored odds for Denmark Youth vs Messico\n",
      "✓ Browser closed\n",
      "✅ SUCCESS! Betting odds extracted\n",
      "Match: Denmark Youth vs Messico\n",
      "Timestamp: 2025-06-15 15:10:49.058106\n",
      "Source: Sisal\n",
      "\n",
      "Extracted odds:\n",
      "  1X2: None / None / None\n",
      "  O/U 2.5: None / None\n",
      "  BTTS: None / None\n",
      "  Double Chance: None / None / None\n",
      "\n",
      "Complete BettingOdds object:\n",
      "BettingOdds(timestamp=datetime.datetime(2025, 6, 15, 15, 10, 49, 58106), source='Sisal', match_id='denmark-youth-messico', home_team='Denmark Youth', away_team='Messico', home_win=None, draw=None, away_win=None, home_or_draw=None, away_or_draw=None, home_or_away=None, over_2_5=None, under_2_5=None, over_3_5=None, under_3_5=None, both_teams_score_yes=None, both_teams_score_no=None)\n"
     ]
    }
   ],
   "source": [
    "# Test scraper with the specified match\n",
    "# Target match URL\n",
    "url = \"https://www.sisal.it/scommesse-live/evento/calcio/cecafa-cup-f/burundi-kenya\"\n",
    "print(\"Testing Sisal Selenium Scraper\")\n",
    "print(f\"URL: {url}\")\n",
    "print(\"=\" * 60)\n",
    "\n",
    "# Create scraper instance and scrape the odds\n",
    "scraper = SisalSeleniumScraper(headless=False)\n",
    "odds = scraper.scrape_betting_odds(url)\n",
    "\n",
    "if odds:\n",
    "    print(\"✅ SUCCESS! Betting odds extracted\")\n",
    "    print(f\"Match: {odds.home_team} vs {odds.away_team}\")\n",
    "    print(f\"Timestamp: {odds.timestamp}\")\n",
    "    print(f\"Source: {odds.source}\")\n",
    "    print()\n",
    "    \n",
    "    # Display odds\n",
    "    print(\"Extracted odds:\")\n",
    "    print(f\"  1X2: {odds.home_win} / {odds.draw} / {odds.away_win}\")\n",
    "    print(f\"  O/U 2.5: {odds.over_2_5} / {odds.under_2_5}\")\n",
    "    print(f\"  BTTS: {odds.both_teams_score_yes} / {odds.both_teams_score_no}\")\n",
    "    print(f\"  Double Chance: {odds.home_or_draw} / {odds.away_or_draw} / {odds.home_or_away}\")\n",
    "    print()\n",
    "    \n",
    "    # Show complete BettingOdds object\n",
    "    print(\"Complete BettingOdds object:\")\n",
    "    print(repr(odds))\n",
    "    \n",
    "else:\n",
    "    print(\"❌ Failed to extract odds\")\n",
    "    print(\"Possible reasons:\")\n",
    "    print(\"- Match not live\")\n",
    "    print(\"- Geographic restrictions\") \n",
    "    print(\"- Page structure changed\")\n",
    "    print(\"- Betting markets not available\")"
   ]
  },
  {
   "cell_type": "code",
   "execution_count": null,
   "id": "33642783",
   "metadata": {},
   "outputs": [],
   "source": []
  }
 ],
 "metadata": {
  "kernelspec": {
   "display_name": ".venv",
   "language": "python",
   "name": "python3"
  },
  "language_info": {
   "codemirror_mode": {
    "name": "ipython",
    "version": 3
   },
   "file_extension": ".py",
   "mimetype": "text/x-python",
   "name": "python",
   "nbconvert_exporter": "python",
   "pygments_lexer": "ipython3",
   "version": "3.12.6"
  }
 },
 "nbformat": 4,
 "nbformat_minor": 5
}
