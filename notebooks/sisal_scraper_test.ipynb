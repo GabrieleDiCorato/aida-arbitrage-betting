{
 "cells": [
  {
   "cell_type": "code",
   "execution_count": 4,
   "id": "3beaaa2b",
   "metadata": {},
   "outputs": [],
   "source": [
    "import sys\n",
    "import os\n",
    "\n",
    "# Add project root to Python path\n",
    "current_dir = os.path.dirname(os.path.abspath('__file__' if '__file__' in globals() else 'scraper_test.ipynb'))\n",
    "project_root = os.path.dirname(current_dir)\n",
    "\n",
    "if project_root not in sys.path:\n",
    "    sys.path.insert(0, project_root)\n",
    "\n",
    "# Import the unified scraper\n",
    "from src.scraper.sisal_selenium_scraper import SisalSeleniumScraper\n",
    "from src.storage.csv_storage import CSVBettingOddsStorage"
   ]
  },
  {
   "cell_type": "code",
   "execution_count": null,
   "id": "4edd1093",
   "metadata": {},
   "outputs": [
    {
     "name": "stdout",
     "output_type": "stream",
     "text": [
      "Scraper Configuration:\n",
      "  URL: https://www.sisal.it/scommesse-live/evento/calcio/gambia/ii-divisione/unique-global-fc-gamtel-fc\n",
      "  Duration: 0.5 minutes\n",
      "  Interval: 10 seconds\n",
      "============================================================\n"
     ]
    }
   ],
   "source": [
    "# Configuration\n",
    "url = \"https://www.sisal.it/scommesse-live/evento/calcio/gambia/ii-divisione/unique-global-fc-gamtel-fc\"\n",
    "duration_minutes = 120\n",
    "interval_seconds = 10\n",
    "\n",
    "print(\"Scraper Configuration:\")\n",
    "print(f\"  URL: {url}\")\n",
    "print(f\"  Duration: {duration_minutes} minutes\")\n",
    "print(f\"  Interval: {interval_seconds} seconds\")\n",
    "print(\"=\" * 60)"
   ]
  },
  {
   "cell_type": "code",
   "execution_count": 6,
   "id": "d903540b",
   "metadata": {},
   "outputs": [
    {
     "name": "stdout",
     "output_type": "stream",
     "text": [
      "Starting unified scraper...\n",
      "Starting continuous (0.5 minutes) scraping session\n",
      "   URL: https://www.sisal.it/scommesse-live/evento/calcio/gambia/ii-divisione/unique-global-fc-gamtel-fc\n",
      "   Duration: 0.5 minutes\n",
      "   Interval: 10 seconds\n",
      "   Storage: CSVBettingOddsStorage\n",
      "Session started at 2025-06-16 18:09:55\n",
      "Session will end at 2025-06-16 18:10:25\n",
      "   Press Ctrl+C to stop early\n",
      "------------------------------------------------------------\n",
      "✓ CSV storage initialized: data\\sisal_scraper_20250616_180955.csv\n",
      "Chrome WebDriver setup successful\n",
      "Navigating to: https://www.sisal.it/scommesse-live/evento/calcio/gambia/ii-divisione/unique-global-fc-gamtel-fc\n",
      "Cookie banner accepted\n",
      "Page content loaded\n",
      "Teams: Unique Global FC vs Gamtel Fc\n",
      "1X2 Main odds extracted\n",
      "Double Chance odds extracted\n",
      "Over/Under odds extracted\n",
      "Goal/NoGoal odds extracted\n",
      "✓ Stored odds for Unique Global FC vs Gamtel Fc\n",
      "18:10:03 - Unique Global FC vs Gamtel Fc - 1X2: 2.5/2.55/3.15\n",
      "Teams: Unique Global FC vs Gamtel Fc\n",
      "1X2 Main odds extracted\n",
      "Double Chance odds extracted\n",
      "Over/Under odds extracted\n",
      "Goal/NoGoal odds extracted\n",
      "✓ Stored odds for Unique Global FC vs Gamtel Fc\n",
      "18:10:13 - Unique Global FC vs Gamtel Fc - 1X2: 2.5/2.55/3.15\n",
      "Teams: Unique Global FC vs Gamtel Fc\n",
      "1X2 Main odds extracted\n",
      "Double Chance odds extracted\n",
      "Over/Under odds extracted\n",
      "Goal/NoGoal odds extracted\n",
      "✓ Stored odds for Unique Global FC vs Gamtel Fc\n",
      "18:10:23 - Unique Global FC vs Gamtel Fc - 1X2: 2.5/2.55/3.15\n",
      "Teams: Unique Global FC vs Gamtel Fc\n",
      "1X2 Main odds extracted\n",
      "Double Chance odds extracted\n",
      "Over/Under odds extracted\n",
      "Goal/NoGoal odds extracted\n",
      "✓ Stored odds for Unique Global FC vs Gamtel Fc\n",
      "18:10:33 - Unique Global FC vs Gamtel Fc - 1X2: 2.55/2.55/3.1\n",
      "Browser closed\n",
      "------------------------------------------------------------\n",
      "CONTINUOUS SCRAPING SESSION SUMMARY\n",
      "   Duration: 0:00:41.277342\n",
      "   Successful scrapes: 4\n",
      "   Failed scrapes: 0\n",
      "   Success rate: 100.0%\n",
      "   Data saved to: data\\sisal_scraper_20250616_180955.csv\n",
      "Session completed\n",
      "\n",
      "Results:\n",
      "  Successful scrapes: 4\n",
      "  Failed scrapes: 0\n",
      "  Success rate: 100.0%\n",
      "  Session duration: 0:00:41.277342\n",
      "  Data saved to: data\\sisal_scraper_20250616_180955.csv\n",
      "✓ CSV storage session closed: data\\sisal_scraper_20250616_180955.csv\n"
     ]
    }
   ],
   "source": [
    "# Create storage and scraper\n",
    "storage = CSVBettingOddsStorage(filename_prefix=\"sisal_scraper\", output_dir=\"data\")\n",
    "scraper = SisalSeleniumScraper(headless=False, storage=storage)\n",
    "\n",
    "# Run unified scraper for 30 seconds with 5-second intervals\n",
    "print(\"Starting unified scraper...\")\n",
    "result = scraper.scrape(\n",
    "    url=url,\n",
    "    duration_minutes=duration_minutes,\n",
    "    interval_seconds=interval_seconds\n",
    ")\n",
    "\n",
    "# Display results\n",
    "print(f\"\\nResults:\")\n",
    "print(f\"  Successful scrapes: {result['successful_scrapes']}\")\n",
    "print(f\"  Failed scrapes: {result['failed_scrapes']}\")\n",
    "print(f\"  Success rate: {result['success_rate']:.1f}%\")\n",
    "print(f\"  Session duration: {result['session_duration']}\")\n",
    "print(f\"  Data saved to: {result['storage_path']}\")\n",
    "\n",
    "# Clean up\n",
    "scraper.close()"
   ]
  },
  {
   "cell_type": "code",
   "execution_count": null,
   "id": "a05ad073",
   "metadata": {},
   "outputs": [],
   "source": []
  }
 ],
 "metadata": {
  "kernelspec": {
   "display_name": ".venv",
   "language": "python",
   "name": "python3"
  },
  "language_info": {
   "codemirror_mode": {
    "name": "ipython",
    "version": 3
   },
   "file_extension": ".py",
   "mimetype": "text/x-python",
   "name": "python",
   "nbconvert_exporter": "python",
   "pygments_lexer": "ipython3",
   "version": "3.12.6"
  }
 },
 "nbformat": 4,
 "nbformat_minor": 5
}
